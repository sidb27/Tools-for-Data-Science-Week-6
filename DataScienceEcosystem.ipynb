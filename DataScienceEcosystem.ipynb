{
 "cells": [
  {
   "cell_type": "markdown",
   "id": "1df5ecee-0f7c-4049-8a9a-71758915c93c",
   "metadata": {},
   "source": [
    "# Data Science Tools and Ecosystem"
   ]
  },
  {
   "cell_type": "markdown",
   "id": "e85208d7-ba68-406e-9b43-e6147f471b58",
   "metadata": {},
   "source": [
    "In this notebook, Data Science Tools and Ecosystem are summarized."
   ]
  },
  {
   "cell_type": "markdown",
   "id": "580fecdc-abb9-4ec8-a7a6-596ed7157298",
   "metadata": {},
   "source": [
    "Some of the popular languages that Data Scientists use are:\n",
    "1. Python\n",
    "2. R\n",
    "3. Julia\n",
    "4. SQL\n",
    "5. Scala"
   ]
  },
  {
   "cell_type": "markdown",
   "id": "db5bf231-03fb-4da5-a2d6-69b6e6cd067b",
   "metadata": {},
   "source": [
    "Some of the commonly used libraries used by Data Scientists include:\n",
    "1. Tensorflow\n",
    "2. NumPy\n",
    "3. SciKit-Learn\n",
    "4. Pandas\n",
    "5. Keras"
   ]
  },
  {
   "cell_type": "markdown",
   "id": "5f514758-2317-49b4-8fea-3cfafcc23602",
   "metadata": {},
   "source": [
    "| Data Science Tools |\n",
    "| --- |\n",
    "| Jupyter Notebooks |\n",
    "| Google Colaboratoy|\n",
    "| R Studio |\n"
   ]
  },
  {
   "cell_type": "markdown",
   "id": "fa2616f4-c49f-4fd1-b869-82eb1d467008",
   "metadata": {},
   "source": [
    "### Below are a few examples of evaluating arithmetic expressions in Python"
   ]
  },
  {
   "cell_type": "code",
   "execution_count": 3,
   "id": "1adabec2-ccc3-42d9-8f0b-994740958a24",
   "metadata": {},
   "outputs": [
    {
     "data": {
      "text/plain": [
       "17"
      ]
     },
     "execution_count": 3,
     "metadata": {},
     "output_type": "execute_result"
    }
   ],
   "source": [
    "#This a simple arithmetic expression to mutiply then add integers\n",
    "(3*4)+5"
   ]
  },
  {
   "cell_type": "code",
   "execution_count": 12,
   "id": "93cfd2df-dbf1-4655-8b7f-e8f4d408466c",
   "metadata": {},
   "outputs": [
    {
     "name": "stdout",
     "output_type": "stream",
     "text": [
      "3.3333333333333335\n"
     ]
    }
   ],
   "source": [
    "#This will convert 200 minutes to hours by dividing by 60\n",
    "minutes = 200\n",
    "hours = 200/60\n",
    "print(hours)\n"
   ]
  },
  {
   "cell_type": "markdown",
   "id": "c06c563f-314a-4907-aa2b-5142908bae3c",
   "metadata": {},
   "source": [
    "**Objectives:**\n",
    "- Introduction\n",
    "- List Popular Languages in Data Science\n",
    "- List Commonly Used Libraries in Data Science\n",
    "- Table of Notable Tools Used In Data Science\n",
    "- Examples Of Evaluating Arithmetic Expressions In Python\n",
    "  "
   ]
  },
  {
   "cell_type": "markdown",
   "id": "788c181d-bf60-4364-96be-804e0724b174",
   "metadata": {},
   "source": [
    "## Author\n",
    "Siddharth Bhandary"
   ]
  },
  {
   "cell_type": "code",
   "execution_count": null,
   "id": "60d91ef9-b270-4a51-9ba7-ccc5d226c6ed",
   "metadata": {},
   "outputs": [],
   "source": []
  }
 ],
 "metadata": {
  "kernelspec": {
   "display_name": "Python 3 (ipykernel)",
   "language": "python",
   "name": "python3"
  },
  "language_info": {
   "codemirror_mode": {
    "name": "ipython",
    "version": 3
   },
   "file_extension": ".py",
   "mimetype": "text/x-python",
   "name": "python",
   "nbconvert_exporter": "python",
   "pygments_lexer": "ipython3",
   "version": "3.11.7"
  }
 },
 "nbformat": 4,
 "nbformat_minor": 5
}
